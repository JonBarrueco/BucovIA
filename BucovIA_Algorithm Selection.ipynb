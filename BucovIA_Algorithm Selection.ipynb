{
 "cells": [
  {
   "cell_type": "markdown",
   "id": "3883883e",
   "metadata": {},
   "source": [
    "# BucovIA Project\n",
    "## Artificial Intelligence Tool to Detect Bullying ans Stress due to Covid-19 \n",
    "\n",
    "## Algorithm Selection"
   ]
  },
  {
   "cell_type": "markdown",
   "id": "afe0bdc6",
   "metadata": {},
   "source": [
    "## I. Load Libraries\n",
    "\n",
    "#### First, install and import the libraries, functions and classess we will use."
   ]
  },
  {
   "cell_type": "code",
   "execution_count": 1,
   "id": "b64574eb",
   "metadata": {},
   "outputs": [
    {
     "name": "stdout",
     "output_type": "stream",
     "text": [
      "Requirement already satisfied: sklearn in c:\\users\\jonb\\anaconda3\\envs\\bucovia\\lib\\site-packages (0.0)\n",
      "Requirement already satisfied: scikit-learn in c:\\users\\jonb\\anaconda3\\envs\\bucovia\\lib\\site-packages (from sklearn) (0.24.2)\n",
      "Requirement already satisfied: numpy>=1.13.3 in c:\\users\\jonb\\anaconda3\\envs\\bucovia\\lib\\site-packages (from scikit-learn->sklearn) (1.20.3)\n",
      "Requirement already satisfied: joblib>=0.11 in c:\\users\\jonb\\anaconda3\\envs\\bucovia\\lib\\site-packages (from scikit-learn->sklearn) (1.0.1)\n",
      "Requirement already satisfied: scipy>=0.19.1 in c:\\users\\jonb\\anaconda3\\envs\\bucovia\\lib\\site-packages (from scikit-learn->sklearn) (1.6.3)\n",
      "Requirement already satisfied: threadpoolctl>=2.0.0 in c:\\users\\jonb\\anaconda3\\envs\\bucovia\\lib\\site-packages (from scikit-learn->sklearn) (2.1.0)\n",
      "Note: you may need to restart the kernel to use updated packages.\n"
     ]
    }
   ],
   "source": [
    "pip install sklearn"
   ]
  },
  {
   "cell_type": "code",
   "execution_count": 2,
   "id": "5fb1593b",
   "metadata": {},
   "outputs": [],
   "source": [
    "# NumPy for numerical computing\n",
    "import numpy as np\n",
    "\n",
    "# Pandas for DataFrames\n",
    "import pandas as pd\n",
    "pd.set_option('display.max.columns',100)\n",
    "\n",
    "# Matplotlib for visualization\n",
    "from matplotlib import pyplot as plt\n",
    "%matplotlib inline\n",
    "\n",
    "# Seaborn for easier visualization\n",
    "import seaborn as sns\n",
    "sns.set_style('darkgrid')\n",
    "\n",
    "# Pickle for reading and writing model files\n",
    "import pickle\n",
    "\n",
    "# Import Logistic Regression\n",
    "from sklearn.linear_model import LogisticRegression\n",
    "\n",
    "# Import RandomForestClassifier and GradientBoostingClassifer\n",
    "from sklearn.ensemble import RandomForestClassifier, GradientBoostingClassifier\n",
    "\n",
    "# Import Support Vector Machine based SVC\n",
    "from sklearn.svm import SVC\n",
    "\n",
    "# Import Decision Tree Regressor\n",
    "from sklearn.tree import DecisionTreeClassifier\n",
    "\n",
    "# Function for splitting training and test set\n",
    "from sklearn.model_selection import train_test_split\n",
    "\n",
    "# Function for creating model pipelines\n",
    "from sklearn.pipeline import make_pipeline\n",
    "\n",
    "# StandardScaler\n",
    "from sklearn.preprocessing import StandardScaler\n",
    "\n",
    "# GridSearchCV\n",
    "from sklearn.model_selection import GridSearchCV\n",
    "\n",
    "# Classification metrics\n",
    "from sklearn.metrics import confusion_matrix\n",
    "from sklearn.metrics import roc_curve, roc_auc_score\n",
    "\n",
    "import warnings\n",
    "warnings.filterwarnings(\"ignore\")"
   ]
  },
  {
   "cell_type": "markdown",
   "id": "277322d4",
   "metadata": {},
   "source": [
    "#### Load ABT"
   ]
  },
  {
   "cell_type": "code",
   "execution_count": 3,
   "id": "53c85c36",
   "metadata": {},
   "outputs": [
    {
     "data": {
      "text/html": [
       "<div>\n",
       "<style scoped>\n",
       "    .dataframe tbody tr th:only-of-type {\n",
       "        vertical-align: middle;\n",
       "    }\n",
       "\n",
       "    .dataframe tbody tr th {\n",
       "        vertical-align: top;\n",
       "    }\n",
       "\n",
       "    .dataframe thead th {\n",
       "        text-align: right;\n",
       "    }\n",
       "</style>\n",
       "<table border=\"1\" class=\"dataframe\">\n",
       "  <thead>\n",
       "    <tr style=\"text-align: right;\">\n",
       "      <th></th>\n",
       "      <th>Classroom</th>\n",
       "      <th>Age</th>\n",
       "      <th>Gender</th>\n",
       "      <th>Self-analaysis</th>\n",
       "      <th>Interactions</th>\n",
       "      <th>Victim</th>\n",
       "      <th>Bully</th>\n",
       "      <th>Observer</th>\n",
       "      <th>Pain</th>\n",
       "      <th>Intimidation</th>\n",
       "      <th>Humiliation</th>\n",
       "      <th>Ignore</th>\n",
       "      <th>Digital</th>\n",
       "      <th>Provoke</th>\n",
       "      <th>PassiveObserve</th>\n",
       "      <th>SituationGeneration</th>\n",
       "      <th>ActiveObserve</th>\n",
       "      <th>Behaviour</th>\n",
       "      <th>Feeling</th>\n",
       "      <th>Thinking</th>\n",
       "    </tr>\n",
       "  </thead>\n",
       "  <tbody>\n",
       "    <tr>\n",
       "      <th>0</th>\n",
       "      <td>2º ESO</td>\n",
       "      <td>14 años</td>\n",
       "      <td>Femenino</td>\n",
       "      <td>8</td>\n",
       "      <td>8</td>\n",
       "      <td>0</td>\n",
       "      <td>0</td>\n",
       "      <td>0</td>\n",
       "      <td>5</td>\n",
       "      <td>0</td>\n",
       "      <td>0</td>\n",
       "      <td>2</td>\n",
       "      <td>0</td>\n",
       "      <td>1</td>\n",
       "      <td>0</td>\n",
       "      <td>0</td>\n",
       "      <td>3.0</td>\n",
       "      <td>1</td>\n",
       "      <td>0</td>\n",
       "      <td>0</td>\n",
       "    </tr>\n",
       "    <tr>\n",
       "      <th>1</th>\n",
       "      <td>2º ESO</td>\n",
       "      <td>13 años</td>\n",
       "      <td>Femenino</td>\n",
       "      <td>10</td>\n",
       "      <td>10</td>\n",
       "      <td>0</td>\n",
       "      <td>0</td>\n",
       "      <td>1</td>\n",
       "      <td>5</td>\n",
       "      <td>2</td>\n",
       "      <td>4</td>\n",
       "      <td>6</td>\n",
       "      <td>3</td>\n",
       "      <td>1</td>\n",
       "      <td>7</td>\n",
       "      <td>0</td>\n",
       "      <td>5.0</td>\n",
       "      <td>1</td>\n",
       "      <td>0</td>\n",
       "      <td>0</td>\n",
       "    </tr>\n",
       "    <tr>\n",
       "      <th>2</th>\n",
       "      <td>2º ESO</td>\n",
       "      <td>14 años</td>\n",
       "      <td>Femenino</td>\n",
       "      <td>2</td>\n",
       "      <td>2</td>\n",
       "      <td>0</td>\n",
       "      <td>0</td>\n",
       "      <td>0</td>\n",
       "      <td>2</td>\n",
       "      <td>1</td>\n",
       "      <td>3</td>\n",
       "      <td>4</td>\n",
       "      <td>3</td>\n",
       "      <td>2</td>\n",
       "      <td>5</td>\n",
       "      <td>1</td>\n",
       "      <td>5.0</td>\n",
       "      <td>3</td>\n",
       "      <td>4</td>\n",
       "      <td>2</td>\n",
       "    </tr>\n",
       "    <tr>\n",
       "      <th>3</th>\n",
       "      <td>2º ESO</td>\n",
       "      <td>14 años</td>\n",
       "      <td>Femenino</td>\n",
       "      <td>6</td>\n",
       "      <td>5</td>\n",
       "      <td>0</td>\n",
       "      <td>0</td>\n",
       "      <td>0</td>\n",
       "      <td>0</td>\n",
       "      <td>0</td>\n",
       "      <td>3</td>\n",
       "      <td>2</td>\n",
       "      <td>0</td>\n",
       "      <td>1</td>\n",
       "      <td>0</td>\n",
       "      <td>1</td>\n",
       "      <td>4.0</td>\n",
       "      <td>4</td>\n",
       "      <td>2</td>\n",
       "      <td>1</td>\n",
       "    </tr>\n",
       "    <tr>\n",
       "      <th>4</th>\n",
       "      <td>2º ESO</td>\n",
       "      <td>14 años</td>\n",
       "      <td>Masculino</td>\n",
       "      <td>10</td>\n",
       "      <td>10</td>\n",
       "      <td>0</td>\n",
       "      <td>0</td>\n",
       "      <td>0</td>\n",
       "      <td>5</td>\n",
       "      <td>0</td>\n",
       "      <td>0</td>\n",
       "      <td>0</td>\n",
       "      <td>2</td>\n",
       "      <td>8</td>\n",
       "      <td>9</td>\n",
       "      <td>9</td>\n",
       "      <td>9.0</td>\n",
       "      <td>1</td>\n",
       "      <td>0</td>\n",
       "      <td>0</td>\n",
       "    </tr>\n",
       "  </tbody>\n",
       "</table>\n",
       "</div>"
      ],
      "text/plain": [
       "  Classroom      Age     Gender  Self-analaysis  Interactions  Victim  Bully  \\\n",
       "0    2º ESO  14 años   Femenino               8             8       0      0   \n",
       "1    2º ESO  13 años   Femenino              10            10       0      0   \n",
       "2    2º ESO  14 años   Femenino               2             2       0      0   \n",
       "3    2º ESO  14 años   Femenino               6             5       0      0   \n",
       "4    2º ESO  14 años  Masculino              10            10       0      0   \n",
       "\n",
       "   Observer  Pain  Intimidation  Humiliation  Ignore  Digital  Provoke  \\\n",
       "0         0     5             0            0       2        0        1   \n",
       "1         1     5             2            4       6        3        1   \n",
       "2         0     2             1            3       4        3        2   \n",
       "3         0     0             0            3       2        0        1   \n",
       "4         0     5             0            0       0        2        8   \n",
       "\n",
       "   PassiveObserve  SituationGeneration  ActiveObserve  Behaviour  Feeling  \\\n",
       "0               0                    0            3.0          1        0   \n",
       "1               7                    0            5.0          1        0   \n",
       "2               5                    1            5.0          3        4   \n",
       "3               0                    1            4.0          4        2   \n",
       "4               9                    9            9.0          1        0   \n",
       "\n",
       "   Thinking  \n",
       "0         0  \n",
       "1         0  \n",
       "2         2  \n",
       "3         1  \n",
       "4         0  "
      ]
     },
     "execution_count": 3,
     "metadata": {},
     "output_type": "execute_result"
    }
   ],
   "source": [
    "abt = pd.read_csv('analytical_base_table.csv')\n",
    "abt.head()"
   ]
  },
  {
   "cell_type": "markdown",
   "id": "a3326278",
   "metadata": {},
   "source": [
    "#### One vs All (OvA) strategy. Divide the target variable into 3 groups (Victim, Bully, Observer) and train three binary classifiers."
   ]
  },
  {
   "cell_type": "code",
   "execution_count": 4,
   "id": "283d971a",
   "metadata": {},
   "outputs": [],
   "source": [
    "# Create separate object for target variable Victim\n",
    "y_victim = abt.Victim\n",
    "# Create separate object for target variable Bully\n",
    "y_bully = abt.Bully\n",
    "# Create separate object for target variable Observer\n",
    "y_observer = abt.Observer\n",
    "\n",
    "# Create separate object for input features for Victim\n",
    "X_victim = abt.drop(['Victim','Bully','Observer','Classroom','Age','Gender'], axis=1)\n",
    "# Create separate object for input features for Bully\n",
    "X_bully = abt.drop(['Victim','Bully','Observer','Classroom','Age','Gender'], axis=1)\n",
    "# Create separate object for input features for Observer\n",
    "X_observer = abt.drop(['Victim','Bully','Observer','Classroom','Age','Gender'], axis=1)"
   ]
  },
  {
   "cell_type": "code",
   "execution_count": 5,
   "id": "9d668630",
   "metadata": {},
   "outputs": [],
   "source": [
    "# Split X and y into train and test sets (Victim)\n",
    "X_train_victim, X_test_victim, y_train_victim, y_test_victim = train_test_split(X_victim, y_victim, \n",
    "                                                    test_size=0.2, \n",
    "                                                    stratify=abt.Victim)\n",
    "\n",
    "# Split X and y into train and test sets (Bully)\n",
    "X_train_bully, X_test_bully, y_train_bully, y_test_bully = train_test_split(X_bully, y_bully, \n",
    "                                                    test_size=0.2, \n",
    "                                                    stratify=abt.Bully)\n",
    "\n",
    "# Split X and y into train and test sets (Observer)\n",
    "X_train_observer, X_test_observer, y_train_observer, y_test_observer = train_test_split(X_observer, y_observer, \n",
    "                                                    test_size=0.2, \n",
    "                                                    stratify=abt.Observer)\n",
    "\n"
   ]
  },
  {
   "cell_type": "markdown",
   "id": "35a62e3d",
   "metadata": {},
   "source": [
    "#### Build pipeline models"
   ]
  },
  {
   "cell_type": "code",
   "execution_count": 6,
   "id": "9c969948",
   "metadata": {},
   "outputs": [],
   "source": [
    "# Pipeline dictionary\n",
    "pipelines = {\n",
    "    'l1' : make_pipeline(StandardScaler(), \n",
    "                         LogisticRegression(penalty='l1' ,solver='liblinear')),\n",
    "    'l2' : make_pipeline(StandardScaler(), \n",
    "                         LogisticRegression(penalty='l2')),\n",
    "    'svc': make_pipeline(StandardScaler(),SVC(kernel='linear')),\n",
    "    'dt' : make_pipeline(StandardScaler(),DecisionTreeClassifier()),\n",
    "    'rf' : make_pipeline(StandardScaler(), RandomForestClassifier()),\n",
    "    'gb' : make_pipeline(StandardScaler(), GradientBoostingClassifier())\n",
    "}"
   ]
  },
  {
   "cell_type": "markdown",
   "id": "e395761c",
   "metadata": {},
   "source": [
    "#### Declare hyperparameter Grids"
   ]
  },
  {
   "cell_type": "code",
   "execution_count": 7,
   "id": "e6772e85",
   "metadata": {},
   "outputs": [],
   "source": [
    "# List tuneable hyperparameters of our Logistic pipeline\n",
    "#pipelines['l1'].get_params()\n",
    "#pipelines['l2'].get_params()\n",
    "#pipelines['svc'].get_params()\n",
    "#pipelines['rf'].get_params()\n",
    "#pipelines['gb'].get_params()\n",
    "\n",
    "# Logistic Regression hyperparameters\n",
    "l1_hyperparameters = {\n",
    "    'logisticregression__C' : [0.001, 0.005, 0.01, 0.05, 0.1, 0.5, 1, 5, 10, 50, 100, 500, 1000],\n",
    "}\n",
    "\n",
    "l2_hyperparameters = {\n",
    "    #'logisticregression__C' : [0.001, 0.005, 0.01, 0.05, 0.1, 0.5, 1, 5, 10, 50, 100, 500, 1000],\n",
    "}\n",
    "\n",
    "# SVC hyperparameters\n",
    "svc_hyperparameters = {\n",
    "    'svc__C': [0.001, 0.01, 0.1, 1, 10, 100, 1000],\n",
    "    'svc__gamma': [1, 0.1, 0.01, 0.001, 0.0001],\n",
    "    #'svc__kernel': ['linear','brf'],\n",
    "    'svc__probability' : [True]\n",
    "}\n",
    "\n",
    "# Decision Tree Regressor hyperparameters\n",
    "dt_hyperparameters = {\n",
    "    'decisiontreeclassifier__max_leaf_nodes': [10,20,30],\n",
    "    #'decisiontreeclassifier__max_features': [\"auto\",\"log2\",\"sqrt\",None],\n",
    "    'decisiontreeclassifier__min_samples_leaf': [1,3,5,10],\n",
    "    'decisiontreeclassifier__max_depth': [1,3,5],\n",
    "}\n",
    "\n",
    "# Random Forest hyperparameters\n",
    "rf_hyperparameters = {\n",
    "    'randomforestclassifier__n_estimators': [100, 200],\n",
    "    'randomforestclassifier__max_features': ['auto', 'sqrt', 0.33],\n",
    "    'randomforestclassifier__min_samples_leaf': [1, 3, 5, 10]\n",
    "}\n",
    "\n",
    "# Boosted Tree hyperparameters\n",
    "gb_hyperparameters = {\n",
    "    'gradientboostingclassifier__n_estimators': [100, 200],\n",
    "    'gradientboostingclassifier__learning_rate': [0.05, 0.1, 0.2],\n",
    "    'gradientboostingclassifier__max_depth': [1, 3, 5]\n",
    "}\n",
    "\n",
    "# Create hyperparameters dictionary\n",
    "hyperparameters = {\n",
    "    'l1' : l1_hyperparameters,\n",
    "    'l2' : l2_hyperparameters,\n",
    "    'svc': svc_hyperparameters,\n",
    "    'dt' : dt_hyperparameters,\n",
    "    'rf' : rf_hyperparameters,\n",
    "    'gb' : gb_hyperparameters\n",
    "}"
   ]
  },
  {
   "cell_type": "markdown",
   "id": "137b9f88",
   "metadata": {},
   "source": [
    "## Fit and Tune Models with Cross-Validation"
   ]
  },
  {
   "cell_type": "markdown",
   "id": "0f85e99a",
   "metadata": {},
   "source": [
    "#### Victim case"
   ]
  },
  {
   "cell_type": "code",
   "execution_count": 8,
   "id": "1b2501a6",
   "metadata": {},
   "outputs": [
    {
     "name": "stdout",
     "output_type": "stream",
     "text": [
      "l1 has been fitted.\n",
      "l2 has been fitted.\n",
      "svc has been fitted.\n",
      "dt has been fitted.\n",
      "rf has been fitted.\n",
      "gb has been fitted.\n"
     ]
    }
   ],
   "source": [
    "# Create empty dictionary called fitted_models\n",
    "fitted_models_victim = {}\n",
    "\n",
    "# Loop through model pipelines, tuning each one and saving it to fitted_models\n",
    "for name, pipeline in pipelines.items():\n",
    "    # Create cross-validation object from pipeline and hyperparameters\n",
    "    model_victim = GridSearchCV(pipeline, hyperparameters[name], cv=20, n_jobs=-1)\n",
    "    \n",
    "    # Fit model on X_train, y_train\n",
    "    model_victim.fit(X_train_victim, y_train_victim)\n",
    "    \n",
    "    # Store model in fitted_models[name] \n",
    "    fitted_models_victim[name] = model_victim\n",
    "    \n",
    "    # Print '{name} has been fitted'\n",
    "    print(name, 'has been fitted.')"
   ]
  },
  {
   "cell_type": "markdown",
   "id": "64265e3c",
   "metadata": {},
   "source": [
    "#### Bully case"
   ]
  },
  {
   "cell_type": "code",
   "execution_count": 9,
   "id": "778b02ab",
   "metadata": {},
   "outputs": [
    {
     "name": "stdout",
     "output_type": "stream",
     "text": [
      "l1 has been fitted.\n",
      "l2 has been fitted.\n",
      "svc has been fitted.\n",
      "dt has been fitted.\n",
      "rf has been fitted.\n",
      "gb has been fitted.\n"
     ]
    }
   ],
   "source": [
    "# Create empty dictionary called fitted_models\n",
    "fitted_models_bully = {}\n",
    "\n",
    "# Loop through model pipelines, tuning each one and saving it to fitted_models\n",
    "for name, pipeline in pipelines.items():\n",
    "    # Create cross-validation object from pipeline and hyperparameters\n",
    "    model_bully = GridSearchCV(pipeline, hyperparameters[name], cv=20, n_jobs=-1)\n",
    "    \n",
    "    # Fit model on X_train, y_train\n",
    "    model_bully.fit(X_train_bully, y_train_bully)\n",
    "    \n",
    "    # Store model in fitted_models[name] \n",
    "    fitted_models_bully[name] = model_bully\n",
    "    \n",
    "    # Print '{name} has been fitted'\n",
    "    print(name, 'has been fitted.')"
   ]
  },
  {
   "cell_type": "markdown",
   "id": "f7b9e192",
   "metadata": {},
   "source": [
    "#### Observer case"
   ]
  },
  {
   "cell_type": "code",
   "execution_count": 10,
   "id": "e660924b",
   "metadata": {},
   "outputs": [
    {
     "name": "stdout",
     "output_type": "stream",
     "text": [
      "l1 has been fitted.\n",
      "l2 has been fitted.\n",
      "svc has been fitted.\n",
      "dt has been fitted.\n",
      "rf has been fitted.\n",
      "gb has been fitted.\n"
     ]
    }
   ],
   "source": [
    "# Create empty dictionary called fitted_models\n",
    "fitted_models_observer = {}\n",
    "\n",
    "# Loop through model pipelines, tuning each one and saving it to fitted_models\n",
    "for name, pipeline in pipelines.items():\n",
    "    # Create cross-validation object from pipeline and hyperparameters\n",
    "    model_observer = GridSearchCV(pipeline, hyperparameters[name], cv=20, n_jobs=-1)\n",
    "    \n",
    "    # Fit model on X_train, y_train\n",
    "    model_observer.fit(X_train_observer, y_train_observer)\n",
    "    \n",
    "    # Store model in fitted_models[name] \n",
    "    fitted_models_observer[name] = model_observer\n",
    "    \n",
    "    # Print '{name} has been fitted'\n",
    "    print(name, 'has been fitted.')"
   ]
  },
  {
   "cell_type": "markdown",
   "id": "abdde24b",
   "metadata": {},
   "source": [
    "## AUROC Review"
   ]
  },
  {
   "cell_type": "markdown",
   "id": "879091a5",
   "metadata": {},
   "source": [
    "#### Victim case"
   ]
  },
  {
   "cell_type": "code",
   "execution_count": 11,
   "id": "8f21d4cb",
   "metadata": {},
   "outputs": [
    {
     "name": "stdout",
     "output_type": "stream",
     "text": [
      "l1 0.8669642857142857\n",
      "l2 0.8392857142857144\n",
      "svc 0.8651785714285716\n",
      "dt 0.8866071428571429\n",
      "rf 0.8651785714285716\n",
      "gb 0.8741071428571429\n"
     ]
    }
   ],
   "source": [
    "# Display best_score_ for each fitted model\n",
    "for name, model in fitted_models_victim.items():\n",
    "    print( name, model.best_score_ )"
   ]
  },
  {
   "cell_type": "code",
   "execution_count": 12,
   "id": "dc788d17",
   "metadata": {},
   "outputs": [
    {
     "name": "stdout",
     "output_type": "stream",
     "text": [
      "l1 0.703030303030303\n",
      "l2 0.7575757575757576\n",
      "svc 0.7393939393939394\n",
      "dt 0.48484848484848486\n",
      "rf 0.6727272727272726\n",
      "gb 0.687878787878788\n"
     ]
    }
   ],
   "source": [
    "# Display the AUROC performance for each fitted model\n",
    "for name, model in fitted_models_victim.items():\n",
    "    pred_victim = model.predict_proba(X_test_victim)\n",
    "    pred_victim = [p[1] for p in pred_victim]\n",
    "    \n",
    "    print( name, roc_auc_score(y_test_victim, pred_victim) )"
   ]
  },
  {
   "cell_type": "markdown",
   "id": "dad83845",
   "metadata": {},
   "source": [
    "#### Bully case"
   ]
  },
  {
   "cell_type": "code",
   "execution_count": 13,
   "id": "2e61998b",
   "metadata": {},
   "outputs": [
    {
     "name": "stdout",
     "output_type": "stream",
     "text": [
      "l1 0.9366071428571429\n",
      "l2 0.9294642857142857\n",
      "svc 0.9366071428571429\n",
      "dt 0.9366071428571429\n",
      "rf 0.9366071428571429\n",
      "gb 0.9232142857142858\n"
     ]
    }
   ],
   "source": [
    "# Display best_score_ for each fitted model\n",
    "for name, model in fitted_models_bully.items():\n",
    "    print( name, model.best_score_ )"
   ]
  },
  {
   "cell_type": "code",
   "execution_count": 14,
   "id": "35751114",
   "metadata": {},
   "outputs": [
    {
     "name": "stdout",
     "output_type": "stream",
     "text": [
      "l1 0.5\n",
      "l2 0.9904761904761905\n",
      "svc 0.0\n",
      "dt 0.6666666666666666\n",
      "rf 0.9904761904761905\n",
      "gb 0.9523809523809524\n"
     ]
    }
   ],
   "source": [
    "# Display the AUROC performance for each fitted model\n",
    "for name, model in fitted_models_bully.items():\n",
    "    pred_bully = model.predict_proba(X_test_bully)\n",
    "    pred_bully = [p[1] for p in pred_bully]\n",
    "    \n",
    "    print( name, roc_auc_score(y_test_bully, pred_bully) )"
   ]
  },
  {
   "cell_type": "markdown",
   "id": "1ad79af7",
   "metadata": {},
   "source": [
    "#### Observer case"
   ]
  },
  {
   "cell_type": "code",
   "execution_count": 15,
   "id": "f5f80f0d",
   "metadata": {},
   "outputs": [
    {
     "name": "stdout",
     "output_type": "stream",
     "text": [
      "l1 0.7276785714285714\n",
      "l2 0.6919642857142857\n",
      "svc 0.6991071428571429\n",
      "dt 0.7491071428571429\n",
      "rf 0.7553571428571428\n",
      "gb 0.7526785714285714\n"
     ]
    }
   ],
   "source": [
    "# Display best_score_ for each fitted model\n",
    "for name, model in fitted_models_observer.items():\n",
    "    print( name, model.best_score_ )"
   ]
  },
  {
   "cell_type": "code",
   "execution_count": 16,
   "id": "74f55682",
   "metadata": {},
   "outputs": [
    {
     "name": "stdout",
     "output_type": "stream",
     "text": [
      "l1 0.927536231884058\n",
      "l2 0.9043478260869566\n",
      "svc 0.9159420289855073\n",
      "dt 0.7260869565217392\n",
      "rf 0.9130434782608696\n",
      "gb 0.8608695652173914\n"
     ]
    }
   ],
   "source": [
    "# Display the AUROC performance for each fitted model\n",
    "for name, model in fitted_models_observer.items():\n",
    "    pred_observer = model.predict_proba(X_test_observer)\n",
    "    pred_observer = [p[1] for p in pred_observer]\n",
    "    \n",
    "    print( name, roc_auc_score(y_test_observer, pred_observer) )"
   ]
  },
  {
   "cell_type": "markdown",
   "id": "88f8e277",
   "metadata": {},
   "source": [
    "## Save the winning pipeline"
   ]
  },
  {
   "cell_type": "markdown",
   "id": "c5e8af55",
   "metadata": {},
   "source": [
    "#### Victim"
   ]
  },
  {
   "cell_type": "code",
   "execution_count": 20,
   "id": "2de62357",
   "metadata": {},
   "outputs": [],
   "source": [
    "# Save winning model as final_model.pkl\n",
    "with open('final_model_victim.pkl', 'wb') as f:\n",
    "    pickle.dump(fitted_models_victim['l2'].best_estimator_, f)"
   ]
  },
  {
   "cell_type": "markdown",
   "id": "c8e20781",
   "metadata": {},
   "source": [
    "#### Bully"
   ]
  },
  {
   "cell_type": "code",
   "execution_count": 21,
   "id": "9ae917bf",
   "metadata": {},
   "outputs": [],
   "source": [
    "# Save winning model as final_model.pkl\n",
    "with open('final_model_bully.pkl', 'wb') as f:\n",
    "    pickle.dump(fitted_models_bully['rf'].best_estimator_, f)"
   ]
  },
  {
   "cell_type": "markdown",
   "id": "ba63e640",
   "metadata": {},
   "source": [
    "#### Observer"
   ]
  },
  {
   "cell_type": "code",
   "execution_count": 22,
   "id": "8b2b1675",
   "metadata": {},
   "outputs": [],
   "source": [
    "# Save winning model as final_model.pkl\n",
    "with open('final_model_observer.pkl', 'wb') as f:\n",
    "    pickle.dump(fitted_models_observer['rf'].best_estimator_, f)"
   ]
  }
 ],
 "metadata": {
  "kernelspec": {
   "display_name": "Python 3",
   "language": "python",
   "name": "python3"
  },
  "language_info": {
   "codemirror_mode": {
    "name": "ipython",
    "version": 3
   },
   "file_extension": ".py",
   "mimetype": "text/x-python",
   "name": "python",
   "nbconvert_exporter": "python",
   "pygments_lexer": "ipython3",
   "version": "3.8.8"
  }
 },
 "nbformat": 4,
 "nbformat_minor": 5
}
