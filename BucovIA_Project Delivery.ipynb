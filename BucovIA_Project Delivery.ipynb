{
 "cells": [
  {
   "cell_type": "markdown",
   "id": "102b123a",
   "metadata": {},
   "source": [
    "# BucovIA Project\n",
    "## Artificial Intelligence Tool to Detect Bullying ans Stress due to Covid-19 \n",
    "\n",
    "## Project Delivery"
   ]
  },
  {
   "cell_type": "markdown",
   "id": "eb394645",
   "metadata": {},
   "source": [
    "## I. Load Libraries\n",
    "\n",
    "#### First, install and import the libraries, functions and classess we will use."
   ]
  },
  {
   "cell_type": "code",
   "execution_count": 1,
   "id": "5a0ac8d5",
   "metadata": {},
   "outputs": [],
   "source": [
    "# NumPy for numerical computing\n",
    "import numpy as np\n",
    "\n",
    "# Pandas for DataFrames\n",
    "import pandas as pd\n",
    "pd.set_option('display.max_columns', 100)\n",
    "\n",
    "# Pickle for reading model files\n",
    "import pickle\n",
    "\n",
    "# Scikit-Learn's train_test_split function\n",
    "from sklearn.model_selection import train_test_split\n",
    "\n",
    "# Area Under ROC Curve\n",
    "from sklearn.metrics import roc_auc_score"
   ]
  },
  {
   "cell_type": "markdown",
   "id": "3d75de3f",
   "metadata": {},
   "source": [
    "## II. Construct Custom Model Class"
   ]
  },
  {
   "cell_type": "code",
   "execution_count": 2,
   "id": "9d319f18",
   "metadata": {},
   "outputs": [],
   "source": [
    "class BullyingDetectionModel:\n",
    "    \n",
    "    # Special function that is automatically run whenever an instance of the class is first initialized\n",
    "    def __init__(self, model_location):\n",
    "        with open(model_location, 'rb') as f:\n",
    "            self.model = pickle.load(f)\n",
    "    \n",
    "    # predict_proba() function to apply our model to new data\n",
    "    def predict_proba(self, X_new, clean=True, augment=True):\n",
    "            if clean:\n",
    "                X_new = self.clean_data(X_new)\n",
    "\n",
    "            if augment:\n",
    "                X_new = self.engineer_features(X_new)\n",
    "\n",
    "            return X_new, self.model.predict_proba(X_new)\n",
    "    \n",
    "    # Add functions here\n",
    "    def clean_data(self, df):\n",
    "        # Convert the object type features (questions) into numeric values\n",
    "        df.replace(['SÍ', 'Sí', 'ESTOY DE ACUERDO', 'DE ACUERDO', 'BAI', 'ADOS NAGO'], 1, inplace=True)\n",
    "        df.replace(['NO', 'ESTOY EN DESACUERDO', 'EN DESACUERDO', 'EZ', 'EZ NAGO ADOS', 'EZ ADOS NAGO'], 0, inplace=True)\n",
    "    \n",
    "        # First drop the possible duplicates\n",
    "        df = df.drop_duplicates()\n",
    "    \n",
    "        # Fill missing numerical (NaN) values as 0 as it has no influence at all.\n",
    "        for column in df.select_dtypes(include=['number']):\n",
    "            df[column].fillna(0, inplace=True)\n",
    "    \n",
    "        # Drop NaN categorical values (drop the entire row)\n",
    "        df=df.dropna()\n",
    "    \n",
    "        # Femeni0 and Emakumea should be 'Femenino'\n",
    "        df.Gender.replace(['Femeni0', 'Emakumea'], 'Femenino', inplace=True)\n",
    "\n",
    "        # Masculi0 and Gizona should be 'Masculino'\n",
    "        df.Gender.replace(['Masculi0', 'Gizona'], 'Masculino', inplace=True)\n",
    "        \n",
    "        # Beste bat should be 'Otro'\n",
    "        df.Gender.replace('Beste bat', 'Otro', inplace=True)\n",
    "\n",
    "        # LANBIDE HEZIKETA 1go maila should be '1º FORMACION PROFESIONAL'\n",
    "        df.Classroom.replace(['LANBIDE HEZIKETA 1go maila','1º FORMACIÓN PROFESIONAL'], '1º FORMACION PROFESIONAL', inplace=True)\n",
    "\n",
    "        # The same with DBH\n",
    "        df.Classroom.replace('DBH 1', '1º ESO',inplace=True)\n",
    "        df.Classroom.replace('DBH 2', '2º ESO',inplace=True)\n",
    "        df.Classroom.replace('DBH 3', '3º ESO',inplace=True)\n",
    "        df.Classroom.replace('DBH 4', '4º ESO',inplace=True)\n",
    "\n",
    "        # The same procedure for the \"age\" feature\n",
    "        df.Age.replace('12 urte', '12 años', inplace=True)\n",
    "        df.Age.replace('13 urte', '13 años', inplace=True)\n",
    "        df.Age.replace('14 urte', '14 años', inplace=True)\n",
    "        df.Age.replace('15 urte', '15 años', inplace=True)\n",
    "        df.Age.replace('16 urte', '16 años', inplace=True)\n",
    "        df.Age.replace('17 urte', '17 años', inplace=True)\n",
    "        df.Age.replace('18 urte', '18 años', inplace=True)\n",
    "        df.Age.replace('19 urte', '19 años', inplace=True)\n",
    "        df.Age.replace('20 urte', '20 años', inplace=True)\n",
    "        df.Age.replace('21 urte', '21 años', inplace=True)\n",
    "        df.Age.replace('21 10 gehiago', 'más de 21', inplace=True)\n",
    "\n",
    "        # Return cleaned dataframe\n",
    "        return df\n",
    "    \n",
    "    def engineer_features(self, df):\n",
    "        # Columns with similar content/meaning are gathered up creating a new column (sum of the columns)\n",
    "        df['Pain'] = df['Pain1'] + df['Pain2 '] + df['Pain3 '] + df['Pain4 '] + df['Pain5 '] + df['Pain6 ']\n",
    "        df['Intimidation'] = df['Intimidation1'] + df['Intimidation2']\n",
    "        df['Humiliation'] = df['Humiliation1'] + df['Humiliation2'] + df['Humiliation3'] + df['Humiliation4'] + df['Humiliation5']\n",
    "        df['Ignore'] = df['Ignore1'] + df['Ignore2'] + df['Ignore3'] + df['Ignore4'] + df['Ignore5'] + df['Ignore6']\n",
    "        df['Digital'] = df['Digital1'] + df['Digital2'] + df['Digital3'] + df['Digital4'] + df['Digital5'] + df['Digital6'] + df['Digital7'] + df['Digital8'] + df['Digital9'] + df['Digital10'] + df['Digital11'] + df['Digital12'] + df['Digital13']\n",
    "        df['OcurrToMe'] = df['OcurrToMe1'] + df['OcurrToMe2'] + df['OcurrToMe3'] + df['OcurrToMe4'] + df['OcurrToMe5'] + df['OcurrToMe6'] + df['OcurrToMe7'] + df['OcurrToMe8'] + df['OcurrToMe9'] + df['OcurrToMe10'] + df['OcurrToMe11'] + df['OcurrToMe12'] + df['OcurrToMe13'] + df['OcurrToMe14'] + df['OcurrToMe15'] + df['OcurrToMe16'] + df['OcurrToMe17'] \n",
    "        df['Provoke'] = df['Provoke1'] + df['Provoke2'] + df['Provoke3'] + df['Provoke4'] + df['Provoke5'] + df['Provoke6'] + df['Provoke7'] + df['Provoke8']\n",
    "        df['PassiveObserve'] = df['PassiveObserve1'] + df['PassiveObserve2'] + df['PassiveObserve3'] + df['PassiveObserve4'] + df['PassiveObserve5'] + df['PassiveObserve6'] + df['PassiveObserve7'] + df['PassiveObserve8'] + df['PassiveObserve9']  \n",
    "        df['SituationGeneration'] = df['SituationGeneration1'] + df['SituationGeneration2'] + df['SituationGeneration3'] + df['SituationGeneration4'] + df['SituationGeneration5'] + df['SituationGeneration6'] + df['SituationGeneration7'] + df['SituationGeneration8'] + df['SituationGeneration9']\n",
    "        df['ActiveObserve'] = df['ActiveObserve1'] + df['ActiveObserve2'] + df['ActiveObserve3'] + df['ActiveObserve4'] + df['ActiveObserve5'] + df['ActiveObserve6'] + df['ActiveObserve7'] + df['ActiveObserve8'] + df['ActiveObserve9']\n",
    "        df['Behaviour'] = df['Behaviour1'] + df['Behaviour2'] + df['Behaviour3'] + df['Behaviour4'] + df['Behaviour5'] + df['Behaviour6']\n",
    "        df['Feeling'] = df['Feeling1'] + df['Feeling2'] + df['Feeling3'] + df['Feeling4'] \n",
    "        df['Thinking'] = df['Thinking1'] + df['Thinking2'] + df['Thinking3'] + df['Thinking4'] + df['Thinking5']\n",
    "    \n",
    "        # Remove unnecessary columns\n",
    "        df.drop(df.columns.difference(['Self-analaysis','Interactions', 'Intimidation','Humiliation','Ignore','Digital','OccurrToMe','Provoke',\n",
    "                                   'PassiveObserve','SituationGeneration','ActiveObserve','Behaviour','Feeling','Thinking','Pain']),\n",
    "            1, inplace=True)\n",
    "\n",
    "        # Return augmented DataFrame\n",
    "        return df"
   ]
  },
  {
   "cell_type": "markdown",
   "id": "46fd78de",
   "metadata": {},
   "source": [
    "## III: Algorithm Trial"
   ]
  },
  {
   "cell_type": "code",
   "execution_count": 3,
   "id": "dba25802",
   "metadata": {},
   "outputs": [],
   "source": [
    "# Initialize an instance\n",
    "victim_model = BullyingDetectionModel('final_model_observer.pkl')"
   ]
  },
  {
   "cell_type": "code",
   "execution_count": 4,
   "id": "f829b116",
   "metadata": {},
   "outputs": [],
   "source": [
    "# Load raw data\n",
    "raw_data = pd.read_excel('Prueba_v2.xlsx')"
   ]
  },
  {
   "cell_type": "code",
   "execution_count": 5,
   "id": "06458b5d",
   "metadata": {},
   "outputs": [],
   "source": [
    "# Predict raw data\n",
    "_, pred = victim_model.predict_proba(raw_data, clean=True, augment=True)"
   ]
  },
  {
   "cell_type": "code",
   "execution_count": 6,
   "id": "33ae0524",
   "metadata": {},
   "outputs": [
    {
     "name": "stdout",
     "output_type": "stream",
     "text": [
      "[0.4  0.41 0.75 0.55 0.47 0.75 0.96 0.36]\n"
     ]
    }
   ],
   "source": [
    "# Get just the prediction for the positive class (0)-(NO)\n",
    "pred = [p[0] for p in pred]\n",
    "\n",
    "# Display first 10 predictions\n",
    "print( np.round(pred,2) )"
   ]
  },
  {
   "cell_type": "code",
   "execution_count": null,
   "id": "61f4c103",
   "metadata": {},
   "outputs": [],
   "source": []
  }
 ],
 "metadata": {
  "kernelspec": {
   "display_name": "Python 3",
   "language": "python",
   "name": "python3"
  },
  "language_info": {
   "codemirror_mode": {
    "name": "ipython",
    "version": 3
   },
   "file_extension": ".py",
   "mimetype": "text/x-python",
   "name": "python",
   "nbconvert_exporter": "python",
   "pygments_lexer": "ipython3",
   "version": "3.8.8"
  }
 },
 "nbformat": 4,
 "nbformat_minor": 5
}
